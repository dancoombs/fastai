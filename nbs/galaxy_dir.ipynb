{
 "cells": [
  {
   "cell_type": "code",
   "execution_count": 1,
   "metadata": {
    "collapsed": false
   },
   "outputs": [
    {
     "data": {
      "text/plain": [
       "u'/home/ubuntu/fastai/nbs'"
      ]
     },
     "execution_count": 1,
     "metadata": {},
     "output_type": "execute_result"
    }
   ],
   "source": [
    "%pwd"
   ]
  },
  {
   "cell_type": "code",
   "execution_count": 2,
   "metadata": {
    "collapsed": true
   },
   "outputs": [],
   "source": [
    "import os, sys\n",
    "current_dir = os.getcwd()\n",
    "LESSON_HOME_DIR = current_dir\n",
    "DATA_HOME_DIR = current_dir+'/data/galaxy'"
   ]
  },
  {
   "cell_type": "code",
   "execution_count": 3,
   "metadata": {
    "collapsed": false
   },
   "outputs": [
    {
     "name": "stderr",
     "output_type": "stream",
     "text": [
      "Using gpu device 0: Tesla K80 (CNMeM is disabled, cuDNN 5103)\n",
      "/home/ubuntu/anaconda2/lib/python2.7/site-packages/theano/sandbox/cuda/__init__.py:600: UserWarning: Your cuDNN version is more recent than the one Theano officially supports. If you see any problems, try updating Theano or downgrading cuDNN to version 5.\n",
      "  warnings.warn(warn)\n",
      "Using Theano backend.\n"
     ]
    }
   ],
   "source": [
    "from utils import *"
   ]
  },
  {
   "cell_type": "code",
   "execution_count": 4,
   "metadata": {
    "collapsed": false
   },
   "outputs": [
    {
     "name": "stdout",
     "output_type": "stream",
     "text": [
      "/home/ubuntu/fastai/nbs/data/galaxy\n"
     ]
    }
   ],
   "source": [
    "%cd $DATA_HOME_DIR\n",
    "%mkdir train\n",
    "%mkdir valid\n",
    "%mkdir results\n",
    "%mkdir model\n",
    "%mkdir -p sample/train\n",
    "%mkdir -p sample/test\n",
    "%mkdir -p sample/valid\n",
    "%mkdir -p sample/results"
   ]
  },
  {
   "cell_type": "code",
   "execution_count": 5,
   "metadata": {
    "collapsed": false
   },
   "outputs": [
    {
     "name": "stdout",
     "output_type": "stream",
     "text": [
      "/home/ubuntu/fastai/nbs/data/galaxy\n"
     ]
    }
   ],
   "source": [
    "%cd $DATA_HOME_DIR\n",
    "%mv images_test_rev1 test"
   ]
  },
  {
   "cell_type": "code",
   "execution_count": 6,
   "metadata": {
    "collapsed": false
   },
   "outputs": [
    {
     "name": "stdout",
     "output_type": "stream",
     "text": [
      "(61578, 38)\n"
     ]
    }
   ],
   "source": [
    "import pandas as pd\n",
    "df = pd.read_csv(\"training_solutions_rev1.csv\")\n",
    "print df.shape"
   ]
  },
  {
   "cell_type": "code",
   "execution_count": 7,
   "metadata": {
    "collapsed": false
   },
   "outputs": [],
   "source": [
    "# shuffle and create training and validation csvs\n",
    "import sklearn.utils\n",
    "shuf = sklearn.utils.shuffle(df)"
   ]
  },
  {
   "cell_type": "code",
   "execution_count": 8,
   "metadata": {
    "collapsed": false
   },
   "outputs": [
    {
     "name": "stdout",
     "output_type": "stream",
     "text": [
      "Number of training images 55420\n",
      "Number of validation images 6158\n"
     ]
    }
   ],
   "source": [
    "num_train = int(0.90 * df.shape[0])\n",
    "print 'Number of training images', num_train\n",
    "print 'Number of validation images', df.shape[0] - num_train\n",
    "\n",
    "train = shuf[:num_train]\n",
    "valid = shuf[num_train:]\n",
    "\n",
    "train.to_csv(DATA_HOME_DIR+'/train.csv')\n",
    "valid.to_csv(DATA_HOME_DIR+'/valid.csv')"
   ]
  },
  {
   "cell_type": "code",
   "execution_count": 9,
   "metadata": {
    "collapsed": false
   },
   "outputs": [
    {
     "name": "stdout",
     "output_type": "stream",
     "text": [
      "/home/ubuntu/fastai/nbs/data/galaxy/images_training_rev1\n"
     ]
    }
   ],
   "source": [
    "%cd $DATA_HOME_DIR/images_training_rev1"
   ]
  },
  {
   "cell_type": "code",
   "execution_count": 11,
   "metadata": {
    "collapsed": false
   },
   "outputs": [],
   "source": [
    "# move pictures into correct folders and crop to 256x256\n",
    "import cv2\n",
    "g = glob('*.jpg')\n",
    "\n",
    "for i in range(len(g)):\n",
    "    filename, _ = os.path.splitext(g[i])\n",
    "    gal_id = int(filename)\n",
    "    if train['GalaxyID'].isin([gal_id]).any():\n",
    "        img = cv2.imread(g[i])\n",
    "        crop_img = img[84:340, 84:340]\n",
    "        cv2.imwrite(DATA_HOME_DIR+'/train/' + g[i], crop_img)\n",
    "    elif valid['GalaxyID'].isin([gal_id]).any():\n",
    "        img = cv2.imread(g[i])\n",
    "        crop_img = img[84:340, 84:340]\n",
    "        cv2.imwrite(DATA_HOME_DIR+'/valid/' + g[i], crop_img)\n",
    "    else:\n",
    "        print 'ID not found' "
   ]
  },
  {
   "cell_type": "code",
   "execution_count": 12,
   "metadata": {
    "collapsed": false
   },
   "outputs": [
    {
     "name": "stdout",
     "output_type": "stream",
     "text": [
      "/home/ubuntu/fastai/nbs/data/galaxy\n"
     ]
    }
   ],
   "source": [
    "# clean up\n",
    "%cd $DATA_HOME_DIR\n",
    "%rm -r images_training_rev1/\n",
    "%rm training_solutions_rev1.csv"
   ]
  },
  {
   "cell_type": "code",
   "execution_count": 13,
   "metadata": {
    "collapsed": true
   },
   "outputs": [],
   "source": [
    "from shutil import copyfile"
   ]
  },
  {
   "cell_type": "code",
   "execution_count": 14,
   "metadata": {
    "collapsed": false
   },
   "outputs": [
    {
     "name": "stdout",
     "output_type": "stream",
     "text": [
      "/home/ubuntu/fastai/nbs/data/galaxy/train\n",
      "Num train copied: 1500\n",
      "Num valid copied: 1000\n"
     ]
    }
   ],
   "source": [
    "# create sample\n",
    "%cd $DATA_HOME_DIR/train\n",
    "g = glob('*.jpg')\n",
    "\n",
    "shuf = sklearn.utils.shuffle(train)\n",
    "samp_train = shuf[:1500]\n",
    "samp_valid = shuf[1501:2501]\n",
    "samp_train.to_csv(DATA_HOME_DIR + '/sample/train.csv')\n",
    "samp_valid.to_csv(DATA_HOME_DIR + '/sample/valid.csv')\n",
    "\n",
    "num_train = 0\n",
    "num_valid = 0\n",
    "for i in range(len(g)):\n",
    "    filename, _ = os.path.splitext(g[i])\n",
    "    gal_id = int(filename)\n",
    "    if samp_train['GalaxyID'].isin([gal_id]).any():\n",
    "        copyfile(g[i], DATA_HOME_DIR+'/sample/train/' + g[i])\n",
    "        num_train += 1\n",
    "    elif samp_valid['GalaxyID'].isin([gal_id]).any():\n",
    "        copyfile(g[i], DATA_HOME_DIR+'/sample/valid/' + g[i])\n",
    "        num_valid += 1\n",
    "    else:\n",
    "        pass\n",
    "    \n",
    "print 'Num train copied:', num_train\n",
    "print 'Num valid copied:', num_valid"
   ]
  },
  {
   "cell_type": "code",
   "execution_count": 15,
   "metadata": {
    "collapsed": false
   },
   "outputs": [
    {
     "name": "stdout",
     "output_type": "stream",
     "text": [
      "/home/ubuntu/fastai/nbs/data/galaxy/test\n"
     ]
    }
   ],
   "source": [
    "%cd $DATA_HOME_DIR/test\n",
    "g = glob('*.jpg')\n",
    "shuf = np.random.permutation(g)\n",
    "for i in range(50): copyfile(shuf[i], DATA_HOME_DIR+'/sample/test/' + shuf[i])"
   ]
  },
  {
   "cell_type": "code",
   "execution_count": 16,
   "metadata": {
    "collapsed": false
   },
   "outputs": [
    {
     "name": "stdout",
     "output_type": "stream",
     "text": [
      "/home/ubuntu/fastai/nbs/data/galaxy/sample/train\n",
      "/home/ubuntu/fastai/nbs/data/galaxy/sample/valid\n",
      "/home/ubuntu/fastai/nbs/data/galaxy/sample/test\n",
      "/home/ubuntu/fastai/nbs/data/galaxy/valid\n",
      "/home/ubuntu/fastai/nbs/data/galaxy/train\n",
      "/home/ubuntu/fastai/nbs/data/galaxy/test\n"
     ]
    }
   ],
   "source": [
    "%cd $DATA_HOME_DIR/sample/train\n",
    "%mkdir images\n",
    "%mv *.jpg images/\n",
    "\n",
    "%cd $DATA_HOME_DIR/sample/valid\n",
    "%mkdir images\n",
    "%mv *.jpg images/\n",
    "\n",
    "%cd $DATA_HOME_DIR/sample/test\n",
    "%mkdir images\n",
    "%mv *.jpg images/\n",
    "\n",
    "%cd $DATA_HOME_DIR/valid\n",
    "%mkdir images\n",
    "%mv *.jpg images/\n",
    "\n",
    "%cd $DATA_HOME_DIR/train\n",
    "%mkdir images\n",
    "%mv *.jpg images/\n",
    "\n",
    "%cd $DATA_HOME_DIR/test\n",
    "%mkdir images\n",
    "%mv *.jpg images/"
   ]
  }
 ],
 "metadata": {
  "anaconda-cloud": {},
  "kernelspec": {
   "display_name": "Python [conda root]",
   "language": "python",
   "name": "conda-root-py"
  },
  "language_info": {
   "codemirror_mode": {
    "name": "ipython",
    "version": 2
   },
   "file_extension": ".py",
   "mimetype": "text/x-python",
   "name": "python",
   "nbconvert_exporter": "python",
   "pygments_lexer": "ipython2",
   "version": "2.7.12"
  }
 },
 "nbformat": 4,
 "nbformat_minor": 1
}
