{
 "cells": [
  {
   "cell_type": "code",
   "execution_count": 1,
   "metadata": {
    "collapsed": true
   },
   "outputs": [],
   "source": [
    "%matplotlib inline\n",
    "\n",
    "path = \"data/galaxy/sample/\"\n",
    "#path = \"data/galaxy/\"\n",
    "\n",
    "train_path = path + 'train/'\n",
    "valid_path = path + 'valid/'\n",
    "test_path = path + 'test/'\n",
    "results_path = path + 'results/'\n",
    "model_path = path + 'model/'"
   ]
  },
  {
   "cell_type": "code",
   "execution_count": 2,
   "metadata": {
    "collapsed": false
   },
   "outputs": [
    {
     "name": "stderr",
     "output_type": "stream",
     "text": [
      "Using gpu device 0: Tesla K80 (CNMeM is disabled, cuDNN 5103)\n",
      "/home/ubuntu/anaconda2/lib/python2.7/site-packages/theano/sandbox/cuda/__init__.py:600: UserWarning: Your cuDNN version is more recent than the one Theano officially supports. If you see any problems, try updating Theano or downgrading cuDNN to version 5.\n",
      "  warnings.warn(warn)\n",
      "Using Theano backend.\n"
     ]
    }
   ],
   "source": [
    "from utils import *"
   ]
  },
  {
   "cell_type": "code",
   "execution_count": 3,
   "metadata": {
    "collapsed": true
   },
   "outputs": [],
   "source": [
    "batch_size = 32\n",
    "num_epoch = 1"
   ]
  },
  {
   "cell_type": "code",
   "execution_count": 4,
   "metadata": {
    "collapsed": true
   },
   "outputs": [],
   "source": [
    "import pandas as pd\n",
    "df = pd.read_csv(path+ \"train.csv\")\n",
    "df_val = pd.read_csv(path+ \"valid.csv\")"
   ]
  },
  {
   "cell_type": "code",
   "execution_count": 69,
   "metadata": {
    "collapsed": false
   },
   "outputs": [
    {
     "name": "stdout",
     "output_type": "stream",
     "text": [
      "Found 1500 images belonging to 1 classes.\n",
      "Found 1000 images belonging to 1 classes.\n"
     ]
    }
   ],
   "source": [
    "# custom iterator for regression\n",
    "import Iterator; reload(Iterator)\n",
    "from Iterator import DirectoryIterator\n",
    "\n",
    "imgen = image.ImageDataGenerator()\n",
    "batches = DirectoryIterator(train_path, imgen, \n",
    "                            class_mode=None, \n",
    "                            dataframe=df,\n",
    "                            batch_size=4,\n",
    "                            target_size=(128,128))\n",
    "\n",
    "val_imgen = image.ImageDataGenerator()\n",
    "val_batches = DirectoryIterator(valid_path, val_imgen, \n",
    "                                class_mode=None, \n",
    "                                dataframe=df_val,\n",
    "                                batch_size=4,\n",
    "                                target_size=(128,128))"
   ]
  },
  {
   "cell_type": "code",
   "execution_count": 75,
   "metadata": {
    "collapsed": false
   },
   "outputs": [],
   "source": [
    "model = Sequential([\n",
    "        BatchNormalization(axis=1, input_shape=(3,128,128)),\n",
    "        Flatten(),\n",
    "        Dense(37, activation='softmax')\n",
    "    ])"
   ]
  },
  {
   "cell_type": "code",
   "execution_count": 76,
   "metadata": {
    "collapsed": false
   },
   "outputs": [
    {
     "name": "stdout",
     "output_type": "stream",
     "text": [
      "Epoch 1/2\n",
      "1500/1500 [==============================] - 35s - loss: 0.0714 - val_loss: 0.0718\n",
      "Epoch 2/2\n",
      "1500/1500 [==============================] - 35s - loss: 0.0714 - val_loss: 0.0718\n"
     ]
    },
    {
     "data": {
      "text/plain": [
       "<keras.callbacks.History at 0x7f309ca25110>"
      ]
     },
     "execution_count": 76,
     "metadata": {},
     "output_type": "execute_result"
    }
   ],
   "source": [
    "model.compile(Adam(), loss='mean_squared_error')\n",
    "model.fit_generator(batches, batches.nb_sample, nb_epoch=2, validation_data=val_batches, \n",
    "                 nb_val_samples=val_batches.nb_sample)"
   ]
  },
  {
   "cell_type": "code",
   "execution_count": 77,
   "metadata": {
    "collapsed": false
   },
   "outputs": [
    {
     "name": "stdout",
     "output_type": "stream",
     "text": [
      "____________________________________________________________________________________________________\n",
      "Layer (type)                     Output Shape          Param #     Connected to                     \n",
      "====================================================================================================\n",
      "batchnormalization_8 (BatchNormal(None, 3, 128, 128)   6           batchnormalization_input_7[0][0] \n",
      "____________________________________________________________________________________________________\n",
      "flatten_9 (Flatten)              (None, 49152)         0           batchnormalization_8[0][0]       \n",
      "____________________________________________________________________________________________________\n",
      "dense_10 (Dense)                 (None, 37)            1818661     flatten_9[0][0]                  \n",
      "====================================================================================================\n",
      "Total params: 1818667\n",
      "____________________________________________________________________________________________________\n"
     ]
    }
   ],
   "source": [
    "model.summary()"
   ]
  },
  {
   "cell_type": "code",
   "execution_count": 78,
   "metadata": {
    "collapsed": false
   },
   "outputs": [
    {
     "data": {
      "text/plain": [
       "array([[ 0.,  1.,  0.,  0.,  0.,  0.,  0.,  0.,  0.,  0.,  0.,  0.,  0.,  0.,  0.,  0.,  0.,  0.,\n",
       "         0.,  0.,  0.,  0.,  0.,  0.,  0.,  0.,  0.,  0.,  0.,  0.,  0.,  0.,  0.,  0.,  0.,  0.,\n",
       "         0.],\n",
       "       [ 0.,  1.,  0.,  0.,  0.,  0.,  0.,  0.,  0.,  0.,  0.,  0.,  0.,  0.,  0.,  0.,  0.,  0.,\n",
       "         0.,  0.,  0.,  0.,  0.,  0.,  0.,  0.,  0.,  0.,  0.,  0.,  0.,  0.,  0.,  0.,  0.,  0.,\n",
       "         0.],\n",
       "       [ 0.,  1.,  0.,  0.,  0.,  0.,  0.,  0.,  0.,  0.,  0.,  0.,  0.,  0.,  0.,  0.,  0.,  0.,\n",
       "         0.,  0.,  0.,  0.,  0.,  0.,  0.,  0.,  0.,  0.,  0.,  0.,  0.,  0.,  0.,  0.,  0.,  0.,\n",
       "         0.],\n",
       "       [ 0.,  1.,  0.,  0.,  0.,  0.,  0.,  0.,  0.,  0.,  0.,  0.,  0.,  0.,  0.,  0.,  0.,  0.,\n",
       "         0.,  0.,  0.,  0.,  0.,  0.,  0.,  0.,  0.,  0.,  0.,  0.,  0.,  0.,  0.,  0.,  0.,  0.,\n",
       "         0.],\n",
       "       [ 0.,  1.,  0.,  0.,  0.,  0.,  0.,  0.,  0.,  0.,  0.,  0.,  0.,  0.,  0.,  0.,  0.,  0.,\n",
       "         0.,  0.,  0.,  0.,  0.,  0.,  0.,  0.,  0.,  0.,  0.,  0.,  0.,  0.,  0.,  0.,  0.,  0.,\n",
       "         0.]], dtype=float32)"
      ]
     },
     "execution_count": 78,
     "metadata": {},
     "output_type": "execute_result"
    }
   ],
   "source": [
    "np.round(model.predict_generator(batches, batches.N)[:5],2)"
   ]
  },
  {
   "cell_type": "code",
   "execution_count": 85,
   "metadata": {
    "collapsed": false
   },
   "outputs": [
    {
     "name": "stdout",
     "output_type": "stream",
     "text": [
      "Epoch 1/2\n",
      "1500/1500 [==============================] - 31s - loss: 0.0675 - val_loss: 0.0677\n",
      "Epoch 2/2\n",
      "1500/1500 [==============================] - 30s - loss: 0.0675 - val_loss: 0.0678\n"
     ]
    },
    {
     "data": {
      "text/plain": [
       "<keras.callbacks.History at 0x7f309cc35b10>"
      ]
     },
     "execution_count": 85,
     "metadata": {},
     "output_type": "execute_result"
    }
   ],
   "source": [
    "model = Sequential([\n",
    "        BatchNormalization(axis=1, input_shape=(3,128,128)),\n",
    "        Flatten(),\n",
    "        Dense(37, activation='softmax')\n",
    "    ])\n",
    "model.compile(Adam(lr=1e-30), loss='mean_squared_error')\n",
    "model.fit_generator(batches, batches.nb_sample, nb_epoch=2, validation_data=val_batches, \n",
    "                 nb_val_samples=val_batches.nb_sample)"
   ]
  },
  {
   "cell_type": "code",
   "execution_count": 86,
   "metadata": {
    "collapsed": false
   },
   "outputs": [
    {
     "data": {
      "text/plain": [
       "array([[ 0.01,  0.  ,  0.01,  0.01,  0.05,  0.01,  0.  ,  0.01,  0.02,  0.02,  0.03,  0.04,  0.1 ,\n",
       "         0.01,  0.01,  0.  ,  0.01,  0.06,  0.  ,  0.01,  0.03,  0.01,  0.28,  0.  ,  0.01,  0.  ,\n",
       "         0.02,  0.01,  0.01,  0.02,  0.02,  0.01,  0.02,  0.01,  0.03,  0.08,  0.01],\n",
       "       [ 0.  ,  0.01,  0.01,  0.07,  0.22,  0.01,  0.  ,  0.  ,  0.01,  0.02,  0.02,  0.03,  0.02,\n",
       "         0.03,  0.05,  0.01,  0.  ,  0.02,  0.  ,  0.02,  0.11,  0.01,  0.19,  0.  ,  0.01,  0.01,\n",
       "         0.02,  0.03,  0.01,  0.  ,  0.  ,  0.  ,  0.01,  0.  ,  0.02,  0.01,  0.01],\n",
       "       [ 0.01,  0.  ,  0.  ,  0.03,  0.12,  0.01,  0.  ,  0.01,  0.03,  0.09,  0.01,  0.03,  0.01,\n",
       "         0.02,  0.06,  0.  ,  0.  ,  0.04,  0.01,  0.15,  0.05,  0.01,  0.11,  0.  ,  0.02,  0.  ,\n",
       "         0.02,  0.01,  0.01,  0.  ,  0.01,  0.  ,  0.03,  0.  ,  0.01,  0.03,  0.04],\n",
       "       [ 0.01,  0.01,  0.  ,  0.04,  0.13,  0.01,  0.  ,  0.01,  0.01,  0.05,  0.01,  0.02,  0.02,\n",
       "         0.08,  0.07,  0.01,  0.  ,  0.03,  0.01,  0.07,  0.1 ,  0.01,  0.06,  0.  ,  0.05,  0.01,\n",
       "         0.02,  0.05,  0.01,  0.01,  0.  ,  0.  ,  0.04,  0.01,  0.01,  0.01,  0.02],\n",
       "       [ 0.01,  0.  ,  0.01,  0.02,  0.07,  0.01,  0.  ,  0.01,  0.02,  0.04,  0.01,  0.05,  0.11,\n",
       "         0.06,  0.02,  0.01,  0.  ,  0.05,  0.01,  0.02,  0.05,  0.02,  0.09,  0.  ,  0.03,  0.04,\n",
       "         0.01,  0.05,  0.01,  0.  ,  0.01,  0.  ,  0.04,  0.01,  0.03,  0.02,  0.02]], dtype=float32)"
      ]
     },
     "execution_count": 86,
     "metadata": {},
     "output_type": "execute_result"
    }
   ],
   "source": [
    "np.round(model.predict_generator(batches, batches.N)[:5],2)"
   ]
  },
  {
   "cell_type": "code",
   "execution_count": null,
   "metadata": {
    "collapsed": true
   },
   "outputs": [],
   "source": []
  }
 ],
 "metadata": {
  "anaconda-cloud": {},
  "kernelspec": {
   "display_name": "Python [conda root]",
   "language": "python",
   "name": "conda-root-py"
  },
  "language_info": {
   "codemirror_mode": {
    "name": "ipython",
    "version": 2
   },
   "file_extension": ".py",
   "mimetype": "text/x-python",
   "name": "python",
   "nbconvert_exporter": "python",
   "pygments_lexer": "ipython2",
   "version": "2.7.12"
  }
 },
 "nbformat": 4,
 "nbformat_minor": 1
}
